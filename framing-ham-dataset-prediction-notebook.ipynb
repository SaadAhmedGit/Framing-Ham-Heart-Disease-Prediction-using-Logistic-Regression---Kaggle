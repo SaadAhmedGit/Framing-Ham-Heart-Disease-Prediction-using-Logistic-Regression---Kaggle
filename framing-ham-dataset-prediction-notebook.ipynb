{
 "cells": [
  {
   "cell_type": "code",
   "execution_count": 1,
   "id": "c8f1b10b",
   "metadata": {
    "execution": {
     "iopub.execute_input": "2022-07-30T12:26:26.574558Z",
     "iopub.status.busy": "2022-07-30T12:26:26.574067Z",
     "iopub.status.idle": "2022-07-30T12:26:26.587795Z",
     "shell.execute_reply": "2022-07-30T12:26:26.586846Z"
    },
    "papermill": {
     "duration": 0.023585,
     "end_time": "2022-07-30T12:26:26.590193",
     "exception": false,
     "start_time": "2022-07-30T12:26:26.566608",
     "status": "completed"
    },
    "tags": []
   },
   "outputs": [],
   "source": [
    "import numpy as np\n",
    "import pandas as pd\n",
    "import matplotlib.pyplot as plt"
   ]
  },
  {
   "cell_type": "code",
   "execution_count": 2,
   "id": "80e5b2be",
   "metadata": {
    "execution": {
     "iopub.execute_input": "2022-07-30T12:26:26.600720Z",
     "iopub.status.busy": "2022-07-30T12:26:26.600361Z",
     "iopub.status.idle": "2022-07-30T12:26:26.655029Z",
     "shell.execute_reply": "2022-07-30T12:26:26.653984Z"
    },
    "papermill": {
     "duration": 0.062618,
     "end_time": "2022-07-30T12:26:26.657418",
     "exception": false,
     "start_time": "2022-07-30T12:26:26.594800",
     "status": "completed"
    },
    "tags": []
   },
   "outputs": [
    {
     "data": {
      "text/html": [
       "<div>\n",
       "<style scoped>\n",
       "    .dataframe tbody tr th:only-of-type {\n",
       "        vertical-align: middle;\n",
       "    }\n",
       "\n",
       "    .dataframe tbody tr th {\n",
       "        vertical-align: top;\n",
       "    }\n",
       "\n",
       "    .dataframe thead th {\n",
       "        text-align: right;\n",
       "    }\n",
       "</style>\n",
       "<table border=\"1\" class=\"dataframe\">\n",
       "  <thead>\n",
       "    <tr style=\"text-align: right;\">\n",
       "      <th></th>\n",
       "      <th>male</th>\n",
       "      <th>age</th>\n",
       "      <th>education</th>\n",
       "      <th>currentSmoker</th>\n",
       "      <th>cigsPerDay</th>\n",
       "      <th>BPMeds</th>\n",
       "      <th>prevalentStroke</th>\n",
       "      <th>prevalentHyp</th>\n",
       "      <th>diabetes</th>\n",
       "      <th>totChol</th>\n",
       "      <th>sysBP</th>\n",
       "      <th>diaBP</th>\n",
       "      <th>BMI</th>\n",
       "      <th>heartRate</th>\n",
       "      <th>glucose</th>\n",
       "      <th>TenYearCHD</th>\n",
       "    </tr>\n",
       "  </thead>\n",
       "  <tbody>\n",
       "    <tr>\n",
       "      <th>0</th>\n",
       "      <td>1</td>\n",
       "      <td>39</td>\n",
       "      <td>4.0</td>\n",
       "      <td>0</td>\n",
       "      <td>0.0</td>\n",
       "      <td>0.0</td>\n",
       "      <td>0</td>\n",
       "      <td>0</td>\n",
       "      <td>0</td>\n",
       "      <td>195.0</td>\n",
       "      <td>106.0</td>\n",
       "      <td>70.0</td>\n",
       "      <td>26.97</td>\n",
       "      <td>80.0</td>\n",
       "      <td>77.0</td>\n",
       "      <td>0</td>\n",
       "    </tr>\n",
       "    <tr>\n",
       "      <th>1</th>\n",
       "      <td>0</td>\n",
       "      <td>46</td>\n",
       "      <td>2.0</td>\n",
       "      <td>0</td>\n",
       "      <td>0.0</td>\n",
       "      <td>0.0</td>\n",
       "      <td>0</td>\n",
       "      <td>0</td>\n",
       "      <td>0</td>\n",
       "      <td>250.0</td>\n",
       "      <td>121.0</td>\n",
       "      <td>81.0</td>\n",
       "      <td>28.73</td>\n",
       "      <td>95.0</td>\n",
       "      <td>76.0</td>\n",
       "      <td>0</td>\n",
       "    </tr>\n",
       "    <tr>\n",
       "      <th>2</th>\n",
       "      <td>1</td>\n",
       "      <td>48</td>\n",
       "      <td>1.0</td>\n",
       "      <td>1</td>\n",
       "      <td>20.0</td>\n",
       "      <td>0.0</td>\n",
       "      <td>0</td>\n",
       "      <td>0</td>\n",
       "      <td>0</td>\n",
       "      <td>245.0</td>\n",
       "      <td>127.5</td>\n",
       "      <td>80.0</td>\n",
       "      <td>25.34</td>\n",
       "      <td>75.0</td>\n",
       "      <td>70.0</td>\n",
       "      <td>0</td>\n",
       "    </tr>\n",
       "    <tr>\n",
       "      <th>3</th>\n",
       "      <td>0</td>\n",
       "      <td>61</td>\n",
       "      <td>3.0</td>\n",
       "      <td>1</td>\n",
       "      <td>30.0</td>\n",
       "      <td>0.0</td>\n",
       "      <td>0</td>\n",
       "      <td>1</td>\n",
       "      <td>0</td>\n",
       "      <td>225.0</td>\n",
       "      <td>150.0</td>\n",
       "      <td>95.0</td>\n",
       "      <td>28.58</td>\n",
       "      <td>65.0</td>\n",
       "      <td>103.0</td>\n",
       "      <td>1</td>\n",
       "    </tr>\n",
       "    <tr>\n",
       "      <th>4</th>\n",
       "      <td>0</td>\n",
       "      <td>46</td>\n",
       "      <td>3.0</td>\n",
       "      <td>1</td>\n",
       "      <td>23.0</td>\n",
       "      <td>0.0</td>\n",
       "      <td>0</td>\n",
       "      <td>0</td>\n",
       "      <td>0</td>\n",
       "      <td>285.0</td>\n",
       "      <td>130.0</td>\n",
       "      <td>84.0</td>\n",
       "      <td>23.10</td>\n",
       "      <td>85.0</td>\n",
       "      <td>85.0</td>\n",
       "      <td>0</td>\n",
       "    </tr>\n",
       "  </tbody>\n",
       "</table>\n",
       "</div>"
      ],
      "text/plain": [
       "   male  age  education  currentSmoker  cigsPerDay  BPMeds  prevalentStroke  \\\n",
       "0     1   39        4.0              0         0.0     0.0                0   \n",
       "1     0   46        2.0              0         0.0     0.0                0   \n",
       "2     1   48        1.0              1        20.0     0.0                0   \n",
       "3     0   61        3.0              1        30.0     0.0                0   \n",
       "4     0   46        3.0              1        23.0     0.0                0   \n",
       "\n",
       "   prevalentHyp  diabetes  totChol  sysBP  diaBP    BMI  heartRate  glucose  \\\n",
       "0             0         0    195.0  106.0   70.0  26.97       80.0     77.0   \n",
       "1             0         0    250.0  121.0   81.0  28.73       95.0     76.0   \n",
       "2             0         0    245.0  127.5   80.0  25.34       75.0     70.0   \n",
       "3             1         0    225.0  150.0   95.0  28.58       65.0    103.0   \n",
       "4             0         0    285.0  130.0   84.0  23.10       85.0     85.0   \n",
       "\n",
       "   TenYearCHD  \n",
       "0           0  \n",
       "1           0  \n",
       "2           0  \n",
       "3           1  \n",
       "4           0  "
      ]
     },
     "execution_count": 2,
     "metadata": {},
     "output_type": "execute_result"
    }
   ],
   "source": [
    "df = pd.read_csv('../input/heart-disease-prediction-using-logistic-regression/framingham.csv')\n",
    "df.head()"
   ]
  },
  {
   "cell_type": "code",
   "execution_count": 3,
   "id": "a4780fad",
   "metadata": {
    "execution": {
     "iopub.execute_input": "2022-07-30T12:26:26.668889Z",
     "iopub.status.busy": "2022-07-30T12:26:26.668509Z",
     "iopub.status.idle": "2022-07-30T12:26:26.674766Z",
     "shell.execute_reply": "2022-07-30T12:26:26.673539Z"
    },
    "papermill": {
     "duration": 0.014735,
     "end_time": "2022-07-30T12:26:26.677013",
     "exception": false,
     "start_time": "2022-07-30T12:26:26.662278",
     "status": "completed"
    },
    "tags": []
   },
   "outputs": [],
   "source": [
    "def sigmoid(z):\n",
    "    return 1 / (1 + np.exp(-z))\n",
    "\n",
    "\n",
    "def f(w, x, b):\n",
    "    return sigmoid(w.dot(x) + b)\n"
   ]
  },
  {
   "cell_type": "code",
   "execution_count": 4,
   "id": "88a15a3b",
   "metadata": {
    "execution": {
     "iopub.execute_input": "2022-07-30T12:26:26.688558Z",
     "iopub.status.busy": "2022-07-30T12:26:26.688188Z",
     "iopub.status.idle": "2022-07-30T12:26:26.701743Z",
     "shell.execute_reply": "2022-07-30T12:26:26.700582Z"
    },
    "papermill": {
     "duration": 0.022632,
     "end_time": "2022-07-30T12:26:26.704425",
     "exception": false,
     "start_time": "2022-07-30T12:26:26.681793",
     "status": "completed"
    },
    "tags": []
   },
   "outputs": [],
   "source": [
    "df = df.dropna()\n",
    "npDF = df.to_numpy()\n",
    "\n",
    "x_train = npDF[:2560, :-1]\n",
    "y_train = npDF[:2560, -1]\n"
   ]
  },
  {
   "cell_type": "code",
   "execution_count": 5,
   "id": "bf77ab2f",
   "metadata": {
    "execution": {
     "iopub.execute_input": "2022-07-30T12:26:26.715466Z",
     "iopub.status.busy": "2022-07-30T12:26:26.715095Z",
     "iopub.status.idle": "2022-07-30T12:26:26.722035Z",
     "shell.execute_reply": "2022-07-30T12:26:26.721073Z"
    },
    "papermill": {
     "duration": 0.014883,
     "end_time": "2022-07-30T12:26:26.724249",
     "exception": false,
     "start_time": "2022-07-30T12:26:26.709366",
     "status": "completed"
    },
    "tags": []
   },
   "outputs": [],
   "source": [
    "def cost(w, x, y, b):\n",
    "    m = x.shape[0]\n",
    "    cost = 0.0\n",
    "    for i in range(m):\n",
    "        cost += y[i] * np.log(f(w, x[i], b)) + (\n",
    "            (1 - y[i]) * (np.log(1 - f(w, x[i], b))) / 2)\n",
    "    cost /= -m\n",
    "    return cost\n"
   ]
  },
  {
   "cell_type": "code",
   "execution_count": 6,
   "id": "8c8c1772",
   "metadata": {
    "execution": {
     "iopub.execute_input": "2022-07-30T12:26:26.734981Z",
     "iopub.status.busy": "2022-07-30T12:26:26.734475Z",
     "iopub.status.idle": "2022-07-30T12:26:26.742242Z",
     "shell.execute_reply": "2022-07-30T12:26:26.741424Z"
    },
    "papermill": {
     "duration": 0.015512,
     "end_time": "2022-07-30T12:26:26.744342",
     "exception": false,
     "start_time": "2022-07-30T12:26:26.728830",
     "status": "completed"
    },
    "tags": []
   },
   "outputs": [],
   "source": [
    "def compute_gradient(w, x, y, b):\n",
    "    m = x.shape[0]\n",
    "    n = x.shape[1]\n",
    "    dj_dw = np.zeros((n, ))\n",
    "    dj_db = 0.0\n",
    "    for j in range(n):\n",
    "        for i in range(m):\n",
    "            dj_dw[j] += (f(w, x[i], b) - y[i]) * x[i][j]\n",
    "        dj_dw[j] /= m\n",
    "\n",
    "    for i in range(m):\n",
    "        dj_db += f(w, x[i], b) - y[i]\n",
    "    dj_db /= m\n",
    "\n",
    "    return (dj_dw, dj_db)"
   ]
  },
  {
   "cell_type": "code",
   "execution_count": 7,
   "id": "29a4b49f",
   "metadata": {
    "execution": {
     "iopub.execute_input": "2022-07-30T12:26:26.754892Z",
     "iopub.status.busy": "2022-07-30T12:26:26.754561Z",
     "iopub.status.idle": "2022-07-30T12:26:26.762703Z",
     "shell.execute_reply": "2022-07-30T12:26:26.761716Z"
    },
    "papermill": {
     "duration": 0.01593,
     "end_time": "2022-07-30T12:26:26.764744",
     "exception": false,
     "start_time": "2022-07-30T12:26:26.748814",
     "status": "completed"
    },
    "tags": []
   },
   "outputs": [],
   "source": [
    "def gradient_descent(w, x, y, b, lr):\n",
    "    n = x.shape[1]\n",
    "    i = 0\n",
    "    while True:\n",
    "        prev_cost = cost(w, x, y, b)\n",
    "        dj_dw, dj_db = compute_gradient(w, x, y, b)\n",
    "        for j in range(n):\n",
    "            w[j] = w[j] - (lr * dj_dw[j])\n",
    "        b = b - (lr * dj_db)\n",
    "        new_cost = cost(w, x, y, b)\n",
    "        i += 1\n",
    "        print(f\"Cost After epoch-{i}: {new_cost}\")\n",
    "        if abs(new_cost - prev_cost) < 0.000001:\n",
    "            print(f'Breakpoint diff: {prev_cost - new_cost}')\n",
    "            break\n"
   ]
  },
  {
   "cell_type": "code",
   "execution_count": 8,
   "id": "ac49727c",
   "metadata": {
    "execution": {
     "iopub.execute_input": "2022-07-30T12:26:26.775506Z",
     "iopub.status.busy": "2022-07-30T12:26:26.775182Z",
     "iopub.status.idle": "2022-07-30T12:26:44.118392Z",
     "shell.execute_reply": "2022-07-30T12:26:44.117298Z"
    },
    "papermill": {
     "duration": 17.351635,
     "end_time": "2022-07-30T12:26:44.121072",
     "exception": false,
     "start_time": "2022-07-30T12:26:26.769437",
     "status": "completed"
    },
    "tags": []
   },
   "outputs": [
    {
     "name": "stdout",
     "output_type": "stream",
     "text": [
      "Cost After epoch-1: 0.3650701325050403\n",
      "Cost After epoch-2: 0.3492249623650292\n",
      "Cost After epoch-3: 0.3427192748530961\n",
      "Cost After epoch-4: 0.34084697008525133\n",
      "Cost After epoch-5: 0.3412536496230746\n",
      "Cost After epoch-6: 0.34274305999207766\n",
      "Cost After epoch-7: 0.34469534166128735\n",
      "Cost After epoch-8: 0.3467856893450638\n",
      "Cost After epoch-9: 0.34884487729648417\n",
      "Cost After epoch-10: 0.3507877649235916\n",
      "Cost After epoch-11: 0.35257541767916484\n",
      "Cost After epoch-12: 0.35419444330168764\n",
      "Cost After epoch-13: 0.3556454464716077\n",
      "Cost After epoch-14: 0.35693646209219615\n",
      "Cost After epoch-15: 0.35807917944745676\n",
      "Cost After epoch-16: 0.3590867657462819\n",
      "Cost After epoch-17: 0.35997262251631273\n",
      "Cost After epoch-18: 0.36074969313146765\n",
      "Cost After epoch-19: 0.36143009842477103\n",
      "Cost After epoch-20: 0.3620249678402531\n",
      "Cost After epoch-21: 0.3625443862909531\n",
      "Cost After epoch-22: 0.3629974081615342\n",
      "Cost After epoch-23: 0.36339210874230704\n",
      "Cost After epoch-24: 0.3637356548946231\n",
      "Cost After epoch-25: 0.36403438385716125\n",
      "Cost After epoch-26: 0.36429388352855424\n",
      "Cost After epoch-27: 0.36451907033104225\n",
      "Cost After epoch-28: 0.36471426249515015\n",
      "Cost After epoch-29: 0.36488324768916114\n",
      "Cost After epoch-30: 0.36502934458772984\n",
      "Cost After epoch-31: 0.3651554583811762\n",
      "Cost After epoch-32: 0.36526413046589307\n",
      "Cost After epoch-33: 0.3653575826879895\n",
      "Cost After epoch-34: 0.36543775657592825\n",
      "Cost After epoch-35: 0.365506348018993\n",
      "Cost After epoch-36: 0.36556483784342775\n",
      "Cost After epoch-37: 0.3656145187177587\n",
      "Cost After epoch-38: 0.36565651878996397\n",
      "Cost After epoch-39: 0.3656918224264486\n",
      "Cost After epoch-40: 0.3657212883887525\n",
      "Cost After epoch-41: 0.3657456657506238\n",
      "Cost After epoch-42: 0.36576560782616296\n",
      "Cost After epoch-43: 0.3657816843502218\n",
      "Cost After epoch-44: 0.36579439212492576\n",
      "Cost After epoch-45: 0.36580416432151686\n",
      "Cost After epoch-46: 0.36581137860440754\n",
      "Cost After epoch-47: 0.3658163642243996\n",
      "Cost After epoch-48: 0.3658194082102602\n",
      "Cost After epoch-49: 0.3658207607720554\n",
      "Cost After epoch-50: 0.36582064001569164\n",
      "Breakpoint diff: 1.2075636374175858e-07\n"
     ]
    }
   ],
   "source": [
    "n = x_train.shape[1]\n",
    "# create an np array of size m\n",
    "weights = np.zeros((n, ))\n",
    "bias = 0\n",
    "gradient_descent(weights, x_train, y_train, bias, 0.00001)"
   ]
  },
  {
   "cell_type": "code",
   "execution_count": 9,
   "id": "1f0a7ddc",
   "metadata": {
    "execution": {
     "iopub.execute_input": "2022-07-30T12:26:44.140004Z",
     "iopub.status.busy": "2022-07-30T12:26:44.139586Z",
     "iopub.status.idle": "2022-07-30T12:26:44.144928Z",
     "shell.execute_reply": "2022-07-30T12:26:44.143819Z"
    },
    "papermill": {
     "duration": 0.017357,
     "end_time": "2022-07-30T12:26:44.147234",
     "exception": false,
     "start_time": "2022-07-30T12:26:44.129877",
     "status": "completed"
    },
    "tags": []
   },
   "outputs": [],
   "source": [
    "x_test = npDF[2560:, :-1]\n",
    "y_test = npDF[2560:, -1]\n"
   ]
  },
  {
   "cell_type": "code",
   "execution_count": 10,
   "id": "4601df84",
   "metadata": {
    "execution": {
     "iopub.execute_input": "2022-07-30T12:26:44.166556Z",
     "iopub.status.busy": "2022-07-30T12:26:44.166201Z",
     "iopub.status.idle": "2022-07-30T12:26:44.197465Z",
     "shell.execute_reply": "2022-07-30T12:26:44.196267Z"
    },
    "papermill": {
     "duration": 0.044862,
     "end_time": "2022-07-30T12:26:44.200864",
     "exception": false,
     "start_time": "2022-07-30T12:26:44.156002",
     "status": "completed"
    },
    "tags": []
   },
   "outputs": [
    {
     "name": "stdout",
     "output_type": "stream",
     "text": [
      "Accuracy: 84.85401459854015%\n"
     ]
    }
   ],
   "source": [
    "m = x_test.shape[0]\n",
    "correct = 0\n",
    "for i in range(m):\n",
    "    prediction = f(weights, x_test[i], bias)\n",
    "    prediction = prediction >= 0.5\n",
    "    if prediction == y_test[i]:\n",
    "        correct += 1\n",
    "print(f\"Accuracy: {(correct/m)*100}%\")"
   ]
  },
  {
   "cell_type": "code",
   "execution_count": null,
   "id": "e7c26f70",
   "metadata": {
    "papermill": {
     "duration": 0.0085,
     "end_time": "2022-07-30T12:26:44.218725",
     "exception": false,
     "start_time": "2022-07-30T12:26:44.210225",
     "status": "completed"
    },
    "tags": []
   },
   "outputs": [],
   "source": []
  }
 ],
 "metadata": {
  "kernelspec": {
   "display_name": "Python 3",
   "language": "python",
   "name": "python3"
  },
  "language_info": {
   "codemirror_mode": {
    "name": "ipython",
    "version": 3
   },
   "file_extension": ".py",
   "mimetype": "text/x-python",
   "name": "python",
   "nbconvert_exporter": "python",
   "pygments_lexer": "ipython3",
   "version": "3.7.12"
  },
  "papermill": {
   "default_parameters": {},
   "duration": 28.589317,
   "end_time": "2022-07-30T12:26:44.848811",
   "environment_variables": {},
   "exception": null,
   "input_path": "__notebook__.ipynb",
   "output_path": "__notebook__.ipynb",
   "parameters": {},
   "start_time": "2022-07-30T12:26:16.259494",
   "version": "2.3.4"
  }
 },
 "nbformat": 4,
 "nbformat_minor": 5
}
